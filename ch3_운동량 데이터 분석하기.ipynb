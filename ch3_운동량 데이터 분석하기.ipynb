{
 "cells": [
  {
   "cell_type": "code",
   "execution_count": null,
   "id": "c062e2c5",
   "metadata": {},
   "outputs": [],
   "source": []
  },
  {
   "cell_type": "code",
   "execution_count": 1,
   "id": "8c3faced",
   "metadata": {},
   "outputs": [
    {
     "data": {
      "text/plain": [
       "[1, 2, 3, 4, 5]"
      ]
     },
     "execution_count": 1,
     "metadata": {},
     "output_type": "execute_result"
    }
   ],
   "source": [
    "list1 = [1 , 2 , 3 , 4 , 5]\n",
    "list1"
   ]
  },
  {
   "cell_type": "code",
   "execution_count": 3,
   "id": "86dc6b56",
   "metadata": {},
   "outputs": [
    {
     "data": {
      "text/plain": [
       "['a', 'b', 1, 2, 3]"
      ]
     },
     "execution_count": 3,
     "metadata": {},
     "output_type": "execute_result"
    }
   ],
   "source": [
    "list2 = ['a' , 'b' , 1 , 2 , 3]\n",
    "list2"
   ]
  },
  {
   "cell_type": "code",
   "execution_count": 4,
   "id": "51cb62e1",
   "metadata": {},
   "outputs": [
    {
     "data": {
      "text/plain": [
       "5"
      ]
     },
     "execution_count": 4,
     "metadata": {},
     "output_type": "execute_result"
    }
   ],
   "source": [
    "len(list2)"
   ]
  },
  {
   "cell_type": "code",
   "execution_count": 5,
   "id": "cc1483b5",
   "metadata": {},
   "outputs": [
    {
     "data": {
      "text/plain": [
       "[1, 2, 3, 4, 5, 1]"
      ]
     },
     "execution_count": 5,
     "metadata": {},
     "output_type": "execute_result"
    }
   ],
   "source": [
    "list1.append(1)\n",
    "list1"
   ]
  },
  {
   "cell_type": "code",
   "execution_count": 6,
   "id": "6281917e",
   "metadata": {},
   "outputs": [
    {
     "data": {
      "text/plain": [
       "[1, 2, 3, 4, 5]"
      ]
     },
     "execution_count": 6,
     "metadata": {},
     "output_type": "execute_result"
    }
   ],
   "source": [
    "list1.pop()\n",
    "list1"
   ]
  },
  {
   "cell_type": "code",
   "execution_count": 7,
   "id": "9db7da59",
   "metadata": {},
   "outputs": [
    {
     "data": {
      "text/plain": [
       "['a', 'b', 1, 2, 3, 'aa', 'bb', 'cc']"
      ]
     },
     "execution_count": 7,
     "metadata": {},
     "output_type": "execute_result"
    }
   ],
   "source": [
    "list2.extend(['aa' , 'bb' , 'cc'])\n",
    "list2"
   ]
  },
  {
   "cell_type": "code",
   "execution_count": 8,
   "id": "e3f5faa6",
   "metadata": {},
   "outputs": [
    {
     "data": {
      "text/plain": [
       "['b', 1, 2, 3, 'aa', 'bb', 'cc']"
      ]
     },
     "execution_count": 8,
     "metadata": {},
     "output_type": "execute_result"
    }
   ],
   "source": [
    "list2.remove('a')\n",
    "list2"
   ]
  },
  {
   "cell_type": "code",
   "execution_count": 10,
   "id": "fb100aa1",
   "metadata": {},
   "outputs": [
    {
     "data": {
      "text/plain": [
       "[2, 3, 4, 5]"
      ]
     },
     "execution_count": 10,
     "metadata": {},
     "output_type": "execute_result"
    }
   ],
   "source": [
    "list1.remove(1)\n",
    "list1"
   ]
  },
  {
   "cell_type": "code",
   "execution_count": 11,
   "id": "cee02950",
   "metadata": {},
   "outputs": [
    {
     "data": {
      "text/plain": [
       "['파이썬 머신러닝 완벽 가이드',\n",
       " '파이썬 철저 입문',\n",
       " '파이썬 코딩 도장',\n",
       " '파이썬 라이브러리를 활용한 머신러닝',\n",
       " '파이썬 프로그래밍']"
      ]
     },
     "execution_count": 11,
     "metadata": {},
     "output_type": "execute_result"
    }
   ],
   "source": [
    "py_book = ['파이썬 머신러닝 완벽 가이드' , '파이썬 철저 입문' , '파이썬 코딩 도장' , \n",
    "           '파이썬 라이브러리를 활용한 머신러닝' , \"파이썬 프로그래밍\"]\n",
    "py_book"
   ]
  },
  {
   "cell_type": "code",
   "execution_count": 12,
   "id": "529c3fad",
   "metadata": {},
   "outputs": [
    {
     "data": {
      "text/plain": [
       "['파이썬 머신러닝 완벽 가이드',\n",
       " '파이썬 철저 입문',\n",
       " '파이썬 코딩 도장',\n",
       " '파이썬 라이브러리를 활용한 머신러닝',\n",
       " '파이썬 프로그래밍',\n",
       " '모두의 파이썬']"
      ]
     },
     "execution_count": 12,
     "metadata": {},
     "output_type": "execute_result"
    }
   ],
   "source": [
    "py_book.append('모두의 파이썬')\n",
    "py_book"
   ]
  },
  {
   "cell_type": "code",
   "execution_count": 13,
   "id": "873e8e2c",
   "metadata": {},
   "outputs": [
    {
     "data": {
      "text/plain": [
       "['파이썬 머신러닝 완벽 가이드',\n",
       " '파이썬 철저 입문',\n",
       " '파이썬 코딩 도장',\n",
       " '파이썬 라이브러리를 활용한 머신러닝',\n",
       " '파이썬 프로그래밍',\n",
       " '모두의 파이썬',\n",
       " '파이썬 데이터 주무르기']"
      ]
     },
     "execution_count": 13,
     "metadata": {},
     "output_type": "execute_result"
    }
   ],
   "source": [
    "py_book.append(\"파이썬 데이터 주무르기\")\n",
    "py_book"
   ]
  },
  {
   "cell_type": "code",
   "execution_count": 14,
   "id": "b68c718f",
   "metadata": {},
   "outputs": [
    {
     "data": {
      "text/plain": [
       "['파이썬 머신러닝 완벽 가이드',\n",
       " 34200,\n",
       " '파이썬 철저 입문',\n",
       " '파이썬 코딩 도장',\n",
       " '파이썬 라이브러리를 활용한 머신러닝',\n",
       " '파이썬 프로그래밍',\n",
       " '모두의 파이썬',\n",
       " '파이썬 데이터 주무르기']"
      ]
     },
     "execution_count": 14,
     "metadata": {},
     "output_type": "execute_result"
    }
   ],
   "source": [
    "py_book.insert(1 , 34200)\n",
    "py_book"
   ]
  },
  {
   "cell_type": "code",
   "execution_count": 15,
   "id": "9e0dcfc6",
   "metadata": {},
   "outputs": [
    {
     "data": {
      "text/plain": [
       "['파이썬 머신러닝 완벽 가이드',\n",
       " 34200,\n",
       " '파이썬 철저 입문',\n",
       " 24300,\n",
       " '파이썬 코딩 도장',\n",
       " 22500,\n",
       " '파이썬 라이브러리를 활용한 머신러닝',\n",
       " 27000,\n",
       " '파이썬 프로그래밍',\n",
       " 25000,\n",
       " '모두의 파이썬',\n",
       " 10800,\n",
       " '파이썬 데이터 주무르기']"
      ]
     },
     "execution_count": 15,
     "metadata": {},
     "output_type": "execute_result"
    }
   ],
   "source": [
    "py_book.insert(3 , 24300)\n",
    "py_book.insert(5 , 22500)\n",
    "py_book.insert(7 , 27000)\n",
    "py_book.insert(9 , 25000)\n",
    "py_book.insert(11 , 10800)\n",
    "py_book"
   ]
  },
  {
   "cell_type": "code",
   "execution_count": 16,
   "id": "4b38884a",
   "metadata": {},
   "outputs": [
    {
     "data": {
      "text/plain": [
       "['파이썬 머신러닝 완벽 가이드',\n",
       " 34200,\n",
       " '파이썬 철저 입문',\n",
       " 24300,\n",
       " '파이썬 코딩 도장',\n",
       " 22500,\n",
       " '파이썬 라이브러리를 활용한 머신러닝',\n",
       " 27000,\n",
       " '파이썬 프로그래밍',\n",
       " 25000,\n",
       " '모두의 파이썬',\n",
       " 10800,\n",
       " '파이썬 데이터 주무르기',\n",
       " 24750]"
      ]
     },
     "execution_count": 16,
     "metadata": {},
     "output_type": "execute_result"
    }
   ],
   "source": [
    "py_book.append(24750)\n",
    "py_book"
   ]
  },
  {
   "cell_type": "code",
   "execution_count": 30,
   "id": "5bd9092b",
   "metadata": {},
   "outputs": [
    {
     "data": {
      "text/html": [
       "<div>\n",
       "<style scoped>\n",
       "    .dataframe tbody tr th:only-of-type {\n",
       "        vertical-align: middle;\n",
       "    }\n",
       "\n",
       "    .dataframe tbody tr th {\n",
       "        vertical-align: top;\n",
       "    }\n",
       "\n",
       "    .dataframe thead th {\n",
       "        text-align: right;\n",
       "    }\n",
       "</style>\n",
       "<table border=\"1\" class=\"dataframe\">\n",
       "  <thead>\n",
       "    <tr style=\"text-align: right;\">\n",
       "      <th></th>\n",
       "      <th>날짜</th>\n",
       "      <th>운동</th>\n",
       "      <th>양</th>\n",
       "    </tr>\n",
       "  </thead>\n",
       "  <tbody>\n",
       "  </tbody>\n",
       "</table>\n",
       "</div>"
      ],
      "text/plain": [
       "Empty DataFrame\n",
       "Columns: [날짜, 운동, 양]\n",
       "Index: []"
      ]
     },
     "execution_count": 30,
     "metadata": {},
     "output_type": "execute_result"
    }
   ],
   "source": [
    "import pandas as pd\n",
    "\n",
    "practice = pd.DataFrame({'날짜' : [] , '운동' : [] , '양' : []})\n",
    "practice"
   ]
  },
  {
   "cell_type": "code",
   "execution_count": 31,
   "id": "c24ca7ee",
   "metadata": {},
   "outputs": [
    {
     "data": {
      "text/html": [
       "<div>\n",
       "<style scoped>\n",
       "    .dataframe tbody tr th:only-of-type {\n",
       "        vertical-align: middle;\n",
       "    }\n",
       "\n",
       "    .dataframe tbody tr th {\n",
       "        vertical-align: top;\n",
       "    }\n",
       "\n",
       "    .dataframe thead th {\n",
       "        text-align: right;\n",
       "    }\n",
       "</style>\n",
       "<table border=\"1\" class=\"dataframe\">\n",
       "  <thead>\n",
       "    <tr style=\"text-align: right;\">\n",
       "      <th></th>\n",
       "      <th>날짜</th>\n",
       "      <th>운동</th>\n",
       "      <th>양</th>\n",
       "    </tr>\n",
       "  </thead>\n",
       "  <tbody>\n",
       "    <tr>\n",
       "      <th>0</th>\n",
       "      <td>19-3-1</td>\n",
       "      <td>달리기</td>\n",
       "      <td>1.0</td>\n",
       "    </tr>\n",
       "  </tbody>\n",
       "</table>\n",
       "</div>"
      ],
      "text/plain": [
       "       날짜   운동    양\n",
       "0  19-3-1  달리기  1.0"
      ]
     },
     "execution_count": 31,
     "metadata": {},
     "output_type": "execute_result"
    }
   ],
   "source": [
    "practice.loc[0] = ['19-3-1' , '달리기' , 1.]\n",
    "practice"
   ]
  },
  {
   "cell_type": "code",
   "execution_count": 32,
   "id": "444d5a93",
   "metadata": {},
   "outputs": [
    {
     "data": {
      "text/html": [
       "<div>\n",
       "<style scoped>\n",
       "    .dataframe tbody tr th:only-of-type {\n",
       "        vertical-align: middle;\n",
       "    }\n",
       "\n",
       "    .dataframe tbody tr th {\n",
       "        vertical-align: top;\n",
       "    }\n",
       "\n",
       "    .dataframe thead th {\n",
       "        text-align: right;\n",
       "    }\n",
       "</style>\n",
       "<table border=\"1\" class=\"dataframe\">\n",
       "  <thead>\n",
       "    <tr style=\"text-align: right;\">\n",
       "      <th></th>\n",
       "      <th>날짜</th>\n",
       "      <th>운동</th>\n",
       "      <th>양</th>\n",
       "    </tr>\n",
       "  </thead>\n",
       "  <tbody>\n",
       "    <tr>\n",
       "      <th>0</th>\n",
       "      <td>19-3-1</td>\n",
       "      <td>달리기</td>\n",
       "      <td>1.0</td>\n",
       "    </tr>\n",
       "    <tr>\n",
       "      <th>1</th>\n",
       "      <td>19-3-2</td>\n",
       "      <td>걷기</td>\n",
       "      <td>1.0</td>\n",
       "    </tr>\n",
       "    <tr>\n",
       "      <th>2</th>\n",
       "      <td>19-3-2</td>\n",
       "      <td>달리기</td>\n",
       "      <td>1.0</td>\n",
       "    </tr>\n",
       "    <tr>\n",
       "      <th>3</th>\n",
       "      <td>19-3-2</td>\n",
       "      <td>계단오르기</td>\n",
       "      <td>1.0</td>\n",
       "    </tr>\n",
       "  </tbody>\n",
       "</table>\n",
       "</div>"
      ],
      "text/plain": [
       "       날짜     운동    양\n",
       "0  19-3-1    달리기  1.0\n",
       "1  19-3-2     걷기  1.0\n",
       "2  19-3-2    달리기  1.0\n",
       "3  19-3-2  계단오르기  1.0"
      ]
     },
     "execution_count": 32,
     "metadata": {},
     "output_type": "execute_result"
    }
   ],
   "source": [
    "practice.loc[1] = ['19-3-2' , '걷기' , 1.]\n",
    "practice.loc[2] = ['19-3-2' , '달리기' , 1.]\n",
    "practice.loc[3] = ['19-3-2' , '계단오르기' , 1.]\n",
    "practice"
   ]
  },
  {
   "cell_type": "code",
   "execution_count": 33,
   "id": "ad1e16a8",
   "metadata": {},
   "outputs": [
    {
     "data": {
      "text/html": [
       "<div>\n",
       "<style scoped>\n",
       "    .dataframe tbody tr th:only-of-type {\n",
       "        vertical-align: middle;\n",
       "    }\n",
       "\n",
       "    .dataframe tbody tr th {\n",
       "        vertical-align: top;\n",
       "    }\n",
       "\n",
       "    .dataframe thead th {\n",
       "        text-align: right;\n",
       "    }\n",
       "</style>\n",
       "<table border=\"1\" class=\"dataframe\">\n",
       "  <thead>\n",
       "    <tr style=\"text-align: right;\">\n",
       "      <th></th>\n",
       "      <th>날짜</th>\n",
       "      <th>운동</th>\n",
       "      <th>양</th>\n",
       "    </tr>\n",
       "  </thead>\n",
       "  <tbody>\n",
       "    <tr>\n",
       "      <th>0</th>\n",
       "      <td>19-3-1</td>\n",
       "      <td>달리기</td>\n",
       "      <td>1.0</td>\n",
       "    </tr>\n",
       "    <tr>\n",
       "      <th>1</th>\n",
       "      <td>19-3-2</td>\n",
       "      <td>걷기</td>\n",
       "      <td>1.0</td>\n",
       "    </tr>\n",
       "    <tr>\n",
       "      <th>2</th>\n",
       "      <td>19-3-2</td>\n",
       "      <td>달리기</td>\n",
       "      <td>1.0</td>\n",
       "    </tr>\n",
       "    <tr>\n",
       "      <th>3</th>\n",
       "      <td>19-3-2</td>\n",
       "      <td>계단오르기</td>\n",
       "      <td>1.0</td>\n",
       "    </tr>\n",
       "    <tr>\n",
       "      <th>4</th>\n",
       "      <td>19-3-3</td>\n",
       "      <td>걷기</td>\n",
       "      <td>1.5</td>\n",
       "    </tr>\n",
       "    <tr>\n",
       "      <th>5</th>\n",
       "      <td>19-3-3</td>\n",
       "      <td>달리기</td>\n",
       "      <td>1.0</td>\n",
       "    </tr>\n",
       "  </tbody>\n",
       "</table>\n",
       "</div>"
      ],
      "text/plain": [
       "       날짜     운동    양\n",
       "0  19-3-1    달리기  1.0\n",
       "1  19-3-2     걷기  1.0\n",
       "2  19-3-2    달리기  1.0\n",
       "3  19-3-2  계단오르기  1.0\n",
       "4  19-3-3     걷기  1.5\n",
       "5  19-3-3    달리기  1.0"
      ]
     },
     "execution_count": 33,
     "metadata": {},
     "output_type": "execute_result"
    }
   ],
   "source": [
    "practice.loc[4] = ['19-3-3' , '걷기' , 1.5]\n",
    "practice.loc[5] = ['19-3-3' , '달리기' , 1.]\n",
    "practice"
   ]
  },
  {
   "cell_type": "code",
   "execution_count": 34,
   "id": "222e3b82",
   "metadata": {},
   "outputs": [],
   "source": [
    "practice.to_csv(\"./data/practice.csv\" , encoding = 'UTF-8')"
   ]
  },
  {
   "cell_type": "code",
   "execution_count": 35,
   "id": "9574c175",
   "metadata": {},
   "outputs": [
    {
     "data": {
      "text/html": [
       "<div>\n",
       "<style scoped>\n",
       "    .dataframe tbody tr th:only-of-type {\n",
       "        vertical-align: middle;\n",
       "    }\n",
       "\n",
       "    .dataframe tbody tr th {\n",
       "        vertical-align: top;\n",
       "    }\n",
       "\n",
       "    .dataframe thead th {\n",
       "        text-align: right;\n",
       "    }\n",
       "</style>\n",
       "<table border=\"1\" class=\"dataframe\">\n",
       "  <thead>\n",
       "    <tr style=\"text-align: right;\">\n",
       "      <th></th>\n",
       "      <th>Unnamed: 0</th>\n",
       "      <th>날짜</th>\n",
       "      <th>운동</th>\n",
       "      <th>양</th>\n",
       "    </tr>\n",
       "  </thead>\n",
       "  <tbody>\n",
       "    <tr>\n",
       "      <th>0</th>\n",
       "      <td>0</td>\n",
       "      <td>19-3-1</td>\n",
       "      <td>달리기</td>\n",
       "      <td>1.0</td>\n",
       "    </tr>\n",
       "    <tr>\n",
       "      <th>1</th>\n",
       "      <td>1</td>\n",
       "      <td>19-3-2</td>\n",
       "      <td>걷기</td>\n",
       "      <td>1.0</td>\n",
       "    </tr>\n",
       "    <tr>\n",
       "      <th>2</th>\n",
       "      <td>2</td>\n",
       "      <td>19-3-2</td>\n",
       "      <td>달리기</td>\n",
       "      <td>1.0</td>\n",
       "    </tr>\n",
       "    <tr>\n",
       "      <th>3</th>\n",
       "      <td>3</td>\n",
       "      <td>19-3-2</td>\n",
       "      <td>계단오르기</td>\n",
       "      <td>1.0</td>\n",
       "    </tr>\n",
       "    <tr>\n",
       "      <th>4</th>\n",
       "      <td>4</td>\n",
       "      <td>19-3-3</td>\n",
       "      <td>걷기</td>\n",
       "      <td>1.5</td>\n",
       "    </tr>\n",
       "    <tr>\n",
       "      <th>5</th>\n",
       "      <td>5</td>\n",
       "      <td>19-3-3</td>\n",
       "      <td>달리기</td>\n",
       "      <td>1.0</td>\n",
       "    </tr>\n",
       "  </tbody>\n",
       "</table>\n",
       "</div>"
      ],
      "text/plain": [
       "   Unnamed: 0      날짜     운동    양\n",
       "0           0  19-3-1    달리기  1.0\n",
       "1           1  19-3-2     걷기  1.0\n",
       "2           2  19-3-2    달리기  1.0\n",
       "3           3  19-3-2  계단오르기  1.0\n",
       "4           4  19-3-3     걷기  1.5\n",
       "5           5  19-3-3    달리기  1.0"
      ]
     },
     "execution_count": 35,
     "metadata": {},
     "output_type": "execute_result"
    }
   ],
   "source": [
    "pd.read_csv(\"./data/practice.csv\",encoding = 'UTF-8')"
   ]
  },
  {
   "cell_type": "code",
   "execution_count": 36,
   "id": "e6860d26",
   "metadata": {},
   "outputs": [
    {
     "data": {
      "text/html": [
       "<div>\n",
       "<style scoped>\n",
       "    .dataframe tbody tr th:only-of-type {\n",
       "        vertical-align: middle;\n",
       "    }\n",
       "\n",
       "    .dataframe tbody tr th {\n",
       "        vertical-align: top;\n",
       "    }\n",
       "\n",
       "    .dataframe thead th {\n",
       "        text-align: right;\n",
       "    }\n",
       "</style>\n",
       "<table border=\"1\" class=\"dataframe\">\n",
       "  <thead>\n",
       "    <tr style=\"text-align: right;\">\n",
       "      <th></th>\n",
       "      <th>날짜</th>\n",
       "      <th>운동</th>\n",
       "      <th>양</th>\n",
       "    </tr>\n",
       "  </thead>\n",
       "  <tbody>\n",
       "    <tr>\n",
       "      <th>0</th>\n",
       "      <td>19-3-1</td>\n",
       "      <td>달리기</td>\n",
       "      <td>1.0</td>\n",
       "    </tr>\n",
       "    <tr>\n",
       "      <th>1</th>\n",
       "      <td>19-3-2</td>\n",
       "      <td>걷기</td>\n",
       "      <td>1.0</td>\n",
       "    </tr>\n",
       "    <tr>\n",
       "      <th>2</th>\n",
       "      <td>19-3-2</td>\n",
       "      <td>달리기</td>\n",
       "      <td>1.0</td>\n",
       "    </tr>\n",
       "    <tr>\n",
       "      <th>3</th>\n",
       "      <td>19-3-2</td>\n",
       "      <td>계단오르기</td>\n",
       "      <td>1.0</td>\n",
       "    </tr>\n",
       "    <tr>\n",
       "      <th>4</th>\n",
       "      <td>19-3-3</td>\n",
       "      <td>걷기</td>\n",
       "      <td>1.5</td>\n",
       "    </tr>\n",
       "    <tr>\n",
       "      <th>5</th>\n",
       "      <td>19-3-3</td>\n",
       "      <td>달리기</td>\n",
       "      <td>1.0</td>\n",
       "    </tr>\n",
       "  </tbody>\n",
       "</table>\n",
       "</div>"
      ],
      "text/plain": [
       "       날짜     운동    양\n",
       "0  19-3-1    달리기  1.0\n",
       "1  19-3-2     걷기  1.0\n",
       "2  19-3-2    달리기  1.0\n",
       "3  19-3-2  계단오르기  1.0\n",
       "4  19-3-3     걷기  1.5\n",
       "5  19-3-3    달리기  1.0"
      ]
     },
     "execution_count": 36,
     "metadata": {},
     "output_type": "execute_result"
    }
   ],
   "source": [
    "pd.read_csv(\"./data/practice.csv\", index_col = 0 , encoding = 'UTF-8')\n",
    "practice"
   ]
  },
  {
   "cell_type": "code",
   "execution_count": 37,
   "id": "db3bc7ae",
   "metadata": {},
   "outputs": [
    {
     "data": {
      "text/html": [
       "<div>\n",
       "<style scoped>\n",
       "    .dataframe tbody tr th:only-of-type {\n",
       "        vertical-align: middle;\n",
       "    }\n",
       "\n",
       "    .dataframe tbody tr th {\n",
       "        vertical-align: top;\n",
       "    }\n",
       "\n",
       "    .dataframe thead th {\n",
       "        text-align: right;\n",
       "    }\n",
       "</style>\n",
       "<table border=\"1\" class=\"dataframe\">\n",
       "  <thead>\n",
       "    <tr style=\"text-align: right;\">\n",
       "      <th></th>\n",
       "      <th>날짜</th>\n",
       "      <th>운동</th>\n",
       "      <th>양</th>\n",
       "    </tr>\n",
       "  </thead>\n",
       "  <tbody>\n",
       "    <tr>\n",
       "      <th>0</th>\n",
       "      <td>19-3-1</td>\n",
       "      <td>달리기</td>\n",
       "      <td>1.0</td>\n",
       "    </tr>\n",
       "    <tr>\n",
       "      <th>1</th>\n",
       "      <td>19-3-2</td>\n",
       "      <td>걷기</td>\n",
       "      <td>1.0</td>\n",
       "    </tr>\n",
       "    <tr>\n",
       "      <th>2</th>\n",
       "      <td>19-3-2</td>\n",
       "      <td>달리기</td>\n",
       "      <td>1.0</td>\n",
       "    </tr>\n",
       "    <tr>\n",
       "      <th>3</th>\n",
       "      <td>19-3-2</td>\n",
       "      <td>계단오르기</td>\n",
       "      <td>1.0</td>\n",
       "    </tr>\n",
       "    <tr>\n",
       "      <th>4</th>\n",
       "      <td>19-3-3</td>\n",
       "      <td>걷기</td>\n",
       "      <td>1.5</td>\n",
       "    </tr>\n",
       "    <tr>\n",
       "      <th>5</th>\n",
       "      <td>19-3-3</td>\n",
       "      <td>달리기</td>\n",
       "      <td>1.0</td>\n",
       "    </tr>\n",
       "    <tr>\n",
       "      <th>6</th>\n",
       "      <td>19-3-4</td>\n",
       "      <td>걷기</td>\n",
       "      <td>1.5</td>\n",
       "    </tr>\n",
       "    <tr>\n",
       "      <th>7</th>\n",
       "      <td>19-3-5</td>\n",
       "      <td>달리기</td>\n",
       "      <td>1.0</td>\n",
       "    </tr>\n",
       "    <tr>\n",
       "      <th>8</th>\n",
       "      <td>19-3-6</td>\n",
       "      <td>걷기</td>\n",
       "      <td>2.5</td>\n",
       "    </tr>\n",
       "    <tr>\n",
       "      <th>9</th>\n",
       "      <td>19-3-6</td>\n",
       "      <td>달리기</td>\n",
       "      <td>0.5</td>\n",
       "    </tr>\n",
       "  </tbody>\n",
       "</table>\n",
       "</div>"
      ],
      "text/plain": [
       "       날짜     운동    양\n",
       "0  19-3-1    달리기  1.0\n",
       "1  19-3-2     걷기  1.0\n",
       "2  19-3-2    달리기  1.0\n",
       "3  19-3-2  계단오르기  1.0\n",
       "4  19-3-3     걷기  1.5\n",
       "5  19-3-3    달리기  1.0\n",
       "6  19-3-4     걷기  1.5\n",
       "7  19-3-5    달리기  1.0\n",
       "8  19-3-6     걷기  2.5\n",
       "9  19-3-6    달리기  0.5"
      ]
     },
     "execution_count": 37,
     "metadata": {},
     "output_type": "execute_result"
    }
   ],
   "source": [
    "practice.loc[6] = [\"19-3-4\" , \"걷기\" , 1.5]\n",
    "practice.loc[7] = [\"19-3-5\" , \"달리기\" , 1.]\n",
    "practice.loc[8] = [\"19-3-6\" , \"걷기\" , 2.5]\n",
    "practice.loc[9] = [\"19-3-6\" , \"달리기\" , 0.5]\n",
    "practice"
   ]
  },
  {
   "cell_type": "code",
   "execution_count": 38,
   "id": "0feee36a",
   "metadata": {},
   "outputs": [
    {
     "data": {
      "text/html": [
       "<div>\n",
       "<style scoped>\n",
       "    .dataframe tbody tr th:only-of-type {\n",
       "        vertical-align: middle;\n",
       "    }\n",
       "\n",
       "    .dataframe tbody tr th {\n",
       "        vertical-align: top;\n",
       "    }\n",
       "\n",
       "    .dataframe thead th {\n",
       "        text-align: right;\n",
       "    }\n",
       "</style>\n",
       "<table border=\"1\" class=\"dataframe\">\n",
       "  <thead>\n",
       "    <tr style=\"text-align: right;\">\n",
       "      <th></th>\n",
       "      <th>양</th>\n",
       "    </tr>\n",
       "    <tr>\n",
       "      <th>운동</th>\n",
       "      <th></th>\n",
       "    </tr>\n",
       "  </thead>\n",
       "  <tbody>\n",
       "    <tr>\n",
       "      <th>걷기</th>\n",
       "      <td>1.625</td>\n",
       "    </tr>\n",
       "    <tr>\n",
       "      <th>계단오르기</th>\n",
       "      <td>1.000</td>\n",
       "    </tr>\n",
       "    <tr>\n",
       "      <th>달리기</th>\n",
       "      <td>0.900</td>\n",
       "    </tr>\n",
       "  </tbody>\n",
       "</table>\n",
       "</div>"
      ],
      "text/plain": [
       "           양\n",
       "운동          \n",
       "걷기     1.625\n",
       "계단오르기  1.000\n",
       "달리기    0.900"
      ]
     },
     "execution_count": 38,
     "metadata": {},
     "output_type": "execute_result"
    }
   ],
   "source": [
    "practice.pivot_table(index = \"운동\")"
   ]
  },
  {
   "cell_type": "code",
   "execution_count": 39,
   "id": "593231e9",
   "metadata": {},
   "outputs": [
    {
     "data": {
      "text/html": [
       "<div>\n",
       "<style scoped>\n",
       "    .dataframe tbody tr th:only-of-type {\n",
       "        vertical-align: middle;\n",
       "    }\n",
       "\n",
       "    .dataframe tbody tr th {\n",
       "        vertical-align: top;\n",
       "    }\n",
       "\n",
       "    .dataframe thead th {\n",
       "        text-align: right;\n",
       "    }\n",
       "</style>\n",
       "<table border=\"1\" class=\"dataframe\">\n",
       "  <thead>\n",
       "    <tr style=\"text-align: right;\">\n",
       "      <th></th>\n",
       "      <th>양</th>\n",
       "    </tr>\n",
       "    <tr>\n",
       "      <th>운동</th>\n",
       "      <th></th>\n",
       "    </tr>\n",
       "  </thead>\n",
       "  <tbody>\n",
       "    <tr>\n",
       "      <th>걷기</th>\n",
       "      <td>6.5</td>\n",
       "    </tr>\n",
       "    <tr>\n",
       "      <th>계단오르기</th>\n",
       "      <td>1.0</td>\n",
       "    </tr>\n",
       "    <tr>\n",
       "      <th>달리기</th>\n",
       "      <td>4.5</td>\n",
       "    </tr>\n",
       "  </tbody>\n",
       "</table>\n",
       "</div>"
      ],
      "text/plain": [
       "         양\n",
       "운동        \n",
       "걷기     6.5\n",
       "계단오르기  1.0\n",
       "달리기    4.5"
      ]
     },
     "execution_count": 39,
     "metadata": {},
     "output_type": "execute_result"
    }
   ],
   "source": [
    "import numpy as np\n",
    "practice.pivot_table(index = \"운동\" , aggfunc = np.sum)"
   ]
  },
  {
   "cell_type": "code",
   "execution_count": 40,
   "id": "cb307d3e",
   "metadata": {},
   "outputs": [
    {
     "data": {
      "text/html": [
       "<div>\n",
       "<style scoped>\n",
       "    .dataframe tbody tr th:only-of-type {\n",
       "        vertical-align: middle;\n",
       "    }\n",
       "\n",
       "    .dataframe tbody tr th {\n",
       "        vertical-align: top;\n",
       "    }\n",
       "\n",
       "    .dataframe thead tr th {\n",
       "        text-align: left;\n",
       "    }\n",
       "\n",
       "    .dataframe thead tr:last-of-type th {\n",
       "        text-align: right;\n",
       "    }\n",
       "</style>\n",
       "<table border=\"1\" class=\"dataframe\">\n",
       "  <thead>\n",
       "    <tr>\n",
       "      <th></th>\n",
       "      <th>sum</th>\n",
       "      <th colspan=\"2\" halign=\"left\">len</th>\n",
       "    </tr>\n",
       "    <tr>\n",
       "      <th></th>\n",
       "      <th>양</th>\n",
       "      <th>날짜</th>\n",
       "      <th>양</th>\n",
       "    </tr>\n",
       "    <tr>\n",
       "      <th>운동</th>\n",
       "      <th></th>\n",
       "      <th></th>\n",
       "      <th></th>\n",
       "    </tr>\n",
       "  </thead>\n",
       "  <tbody>\n",
       "    <tr>\n",
       "      <th>걷기</th>\n",
       "      <td>6.5</td>\n",
       "      <td>4</td>\n",
       "      <td>4.0</td>\n",
       "    </tr>\n",
       "    <tr>\n",
       "      <th>계단오르기</th>\n",
       "      <td>1.0</td>\n",
       "      <td>1</td>\n",
       "      <td>1.0</td>\n",
       "    </tr>\n",
       "    <tr>\n",
       "      <th>달리기</th>\n",
       "      <td>4.5</td>\n",
       "      <td>5</td>\n",
       "      <td>5.0</td>\n",
       "    </tr>\n",
       "  </tbody>\n",
       "</table>\n",
       "</div>"
      ],
      "text/plain": [
       "       sum len     \n",
       "         양  날짜    양\n",
       "운동                 \n",
       "걷기     6.5   4  4.0\n",
       "계단오르기  1.0   1  1.0\n",
       "달리기    4.5   5  5.0"
      ]
     },
     "execution_count": 40,
     "metadata": {},
     "output_type": "execute_result"
    }
   ],
   "source": [
    "practice.pivot_table(index = \"운동\" , aggfunc = [np.sum,len])"
   ]
  },
  {
   "cell_type": "code",
   "execution_count": 41,
   "id": "42744cfe",
   "metadata": {},
   "outputs": [
    {
     "data": {
      "text/html": [
       "<div>\n",
       "<style scoped>\n",
       "    .dataframe tbody tr th:only-of-type {\n",
       "        vertical-align: middle;\n",
       "    }\n",
       "\n",
       "    .dataframe tbody tr th {\n",
       "        vertical-align: top;\n",
       "    }\n",
       "\n",
       "    .dataframe thead th {\n",
       "        text-align: right;\n",
       "    }\n",
       "</style>\n",
       "<table border=\"1\" class=\"dataframe\">\n",
       "  <thead>\n",
       "    <tr style=\"text-align: right;\">\n",
       "      <th>운동</th>\n",
       "      <th>걷기</th>\n",
       "      <th>계단오르기</th>\n",
       "      <th>달리기</th>\n",
       "    </tr>\n",
       "    <tr>\n",
       "      <th>날짜</th>\n",
       "      <th></th>\n",
       "      <th></th>\n",
       "      <th></th>\n",
       "    </tr>\n",
       "  </thead>\n",
       "  <tbody>\n",
       "    <tr>\n",
       "      <th>19-3-1</th>\n",
       "      <td>NaN</td>\n",
       "      <td>NaN</td>\n",
       "      <td>1.0</td>\n",
       "    </tr>\n",
       "    <tr>\n",
       "      <th>19-3-2</th>\n",
       "      <td>1.0</td>\n",
       "      <td>1.0</td>\n",
       "      <td>1.0</td>\n",
       "    </tr>\n",
       "    <tr>\n",
       "      <th>19-3-3</th>\n",
       "      <td>1.5</td>\n",
       "      <td>NaN</td>\n",
       "      <td>1.0</td>\n",
       "    </tr>\n",
       "    <tr>\n",
       "      <th>19-3-4</th>\n",
       "      <td>1.5</td>\n",
       "      <td>NaN</td>\n",
       "      <td>NaN</td>\n",
       "    </tr>\n",
       "    <tr>\n",
       "      <th>19-3-5</th>\n",
       "      <td>NaN</td>\n",
       "      <td>NaN</td>\n",
       "      <td>1.0</td>\n",
       "    </tr>\n",
       "    <tr>\n",
       "      <th>19-3-6</th>\n",
       "      <td>2.5</td>\n",
       "      <td>NaN</td>\n",
       "      <td>0.5</td>\n",
       "    </tr>\n",
       "  </tbody>\n",
       "</table>\n",
       "</div>"
      ],
      "text/plain": [
       "운동       걷기  계단오르기  달리기\n",
       "날짜                     \n",
       "19-3-1  NaN    NaN  1.0\n",
       "19-3-2  1.0    1.0  1.0\n",
       "19-3-3  1.5    NaN  1.0\n",
       "19-3-4  1.5    NaN  NaN\n",
       "19-3-5  NaN    NaN  1.0\n",
       "19-3-6  2.5    NaN  0.5"
      ]
     },
     "execution_count": 41,
     "metadata": {},
     "output_type": "execute_result"
    }
   ],
   "source": [
    "practice.pivot('날짜' , '운동' , '양')"
   ]
  },
  {
   "cell_type": "code",
   "execution_count": 42,
   "id": "4950f7cd",
   "metadata": {},
   "outputs": [
    {
     "data": {
      "text/html": [
       "<div>\n",
       "<style scoped>\n",
       "    .dataframe tbody tr th:only-of-type {\n",
       "        vertical-align: middle;\n",
       "    }\n",
       "\n",
       "    .dataframe tbody tr th {\n",
       "        vertical-align: top;\n",
       "    }\n",
       "\n",
       "    .dataframe thead th {\n",
       "        text-align: right;\n",
       "    }\n",
       "</style>\n",
       "<table border=\"1\" class=\"dataframe\">\n",
       "  <thead>\n",
       "    <tr style=\"text-align: right;\">\n",
       "      <th>운동</th>\n",
       "      <th>걷기</th>\n",
       "      <th>계단오르기</th>\n",
       "      <th>달리기</th>\n",
       "    </tr>\n",
       "    <tr>\n",
       "      <th>날짜</th>\n",
       "      <th></th>\n",
       "      <th></th>\n",
       "      <th></th>\n",
       "    </tr>\n",
       "  </thead>\n",
       "  <tbody>\n",
       "    <tr>\n",
       "      <th>19-3-1</th>\n",
       "      <td>0.0</td>\n",
       "      <td>0.0</td>\n",
       "      <td>1.0</td>\n",
       "    </tr>\n",
       "    <tr>\n",
       "      <th>19-3-2</th>\n",
       "      <td>1.0</td>\n",
       "      <td>1.0</td>\n",
       "      <td>1.0</td>\n",
       "    </tr>\n",
       "    <tr>\n",
       "      <th>19-3-3</th>\n",
       "      <td>1.5</td>\n",
       "      <td>0.0</td>\n",
       "      <td>1.0</td>\n",
       "    </tr>\n",
       "    <tr>\n",
       "      <th>19-3-4</th>\n",
       "      <td>1.5</td>\n",
       "      <td>0.0</td>\n",
       "      <td>0.0</td>\n",
       "    </tr>\n",
       "    <tr>\n",
       "      <th>19-3-5</th>\n",
       "      <td>0.0</td>\n",
       "      <td>0.0</td>\n",
       "      <td>1.0</td>\n",
       "    </tr>\n",
       "    <tr>\n",
       "      <th>19-3-6</th>\n",
       "      <td>2.5</td>\n",
       "      <td>0.0</td>\n",
       "      <td>0.5</td>\n",
       "    </tr>\n",
       "  </tbody>\n",
       "</table>\n",
       "</div>"
      ],
      "text/plain": [
       "운동       걷기  계단오르기  달리기\n",
       "날짜                     \n",
       "19-3-1  0.0    0.0  1.0\n",
       "19-3-2  1.0    1.0  1.0\n",
       "19-3-3  1.5    0.0  1.0\n",
       "19-3-4  1.5    0.0  0.0\n",
       "19-3-5  0.0    0.0  1.0\n",
       "19-3-6  2.5    0.0  0.5"
      ]
     },
     "execution_count": 42,
     "metadata": {},
     "output_type": "execute_result"
    }
   ],
   "source": [
    "prac_pivot = practice.pivot('날짜' , '운동' , '양')\n",
    "prac_pivot.fillna(0 , inplace = True)\n",
    "prac_pivot"
   ]
  },
  {
   "cell_type": "code",
   "execution_count": null,
   "id": "cb595807",
   "metadata": {},
   "outputs": [],
   "source": []
  }
 ],
 "metadata": {
  "kernelspec": {
   "display_name": "Python 3",
   "language": "python",
   "name": "python3"
  },
  "language_info": {
   "codemirror_mode": {
    "name": "ipython",
    "version": 3
   },
   "file_extension": ".py",
   "mimetype": "text/x-python",
   "name": "python",
   "nbconvert_exporter": "python",
   "pygments_lexer": "ipython3",
   "version": "3.6.13"
  }
 },
 "nbformat": 4,
 "nbformat_minor": 5
}
