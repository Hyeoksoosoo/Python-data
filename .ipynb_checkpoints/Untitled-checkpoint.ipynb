{
 "cells": [
  {
   "cell_type": "markdown",
   "id": "98ea09fe",
   "metadata": {},
   "source": [
    "# 제목 테스트 \n",
    "## 중간 크기 제목\n",
    "### 작은 제목 테스트\n"
   ]
  },
  {
   "cell_type": "markdown",
   "id": "176ac746",
   "metadata": {},
   "source": [
    "* 번호 없는 테스트\n",
    "* 번호 없는 목록은 * 표는 사용\n",
    "    * 탭은 입력하고 *를 사용하면 들여쓰기가 적용됨\n",
    "    * 손쉽게 사용할 수 있는 번호없는 목록"
   ]
  },
  {
   "cell_type": "markdown",
   "id": "5ca3843d",
   "metadata": {},
   "source": [
    "* 기울인 글씨*와 **굵은 글씨**와 ***굵게 기울인 글씨*** 테스트\n"
   ]
  },
  {
   "cell_type": "code",
   "execution_count": null,
   "id": "c7ae9640",
   "metadata": {},
   "outputs": [],
   "source": []
  }
 ],
 "metadata": {
  "kernelspec": {
   "display_name": "Python 3",
   "language": "python",
   "name": "python3"
  },
  "language_info": {
   "codemirror_mode": {
    "name": "ipython",
    "version": 3
   },
   "file_extension": ".py",
   "mimetype": "text/x-python",
   "name": "python",
   "nbconvert_exporter": "python",
   "pygments_lexer": "ipython3",
   "version": "3.6.13"
  }
 },
 "nbformat": 4,
 "nbformat_minor": 5
}
